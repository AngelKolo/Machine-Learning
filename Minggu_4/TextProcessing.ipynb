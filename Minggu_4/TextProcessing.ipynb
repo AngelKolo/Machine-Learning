{
 "cells": [
  {
   "cell_type": "code",
   "execution_count": 1,
   "id": "5d392135-716f-41ee-a856-113b67c66f98",
   "metadata": {},
   "outputs": [
    {
     "name": "stdout",
     "output_type": "stream",
     "text": [
      "22\n"
     ]
    }
   ],
   "source": [
    "word = 'Analitika Media Sosial'\n",
    "print(len(word))"
   ]
  },
  {
   "cell_type": "code",
   "execution_count": 2,
   "id": "171f2181-431a-41b7-a613-414f65e78c8a",
   "metadata": {},
   "outputs": [
    {
     "name": "stdout",
     "output_type": "stream",
     "text": [
      "6\n"
     ]
    }
   ],
   "source": [
    "multiline = '''1\n",
    "2\n",
    "3\n",
    "'''\n",
    "print(len(multiline))"
   ]
  },
  {
   "cell_type": "code",
   "execution_count": 3,
   "id": "63f9e078-65aa-424a-b6cc-9c9951613561",
   "metadata": {},
   "outputs": [
    {
     "name": "stdout",
     "output_type": "stream",
     "text": [
      "12\n"
     ]
    }
   ],
   "source": [
    "str1 = '1'\n",
    "str2 = '2'\n",
    "\n",
    "print(str1 + str2)"
   ]
  },
  {
   "cell_type": "code",
   "execution_count": 4,
   "id": "56d8fb58-c15a-4f42-bc1c-e92e48c0c1de",
   "metadata": {},
   "outputs": [
    {
     "name": "stdout",
     "output_type": "stream",
     "text": [
      "97\n",
      "32\n",
      "65\n"
     ]
    }
   ],
   "source": [
    "ch1 = 'a'\n",
    "ch2 = ' ' #space\n",
    "ch3 = 'A'\n",
    "\n",
    "print(ord(ch1))\n",
    "print(ord(ch2))\n",
    "print(ord(ch3))"
   ]
  },
  {
   "cell_type": "code",
   "execution_count": 5,
   "id": "395f6470-bb49-428e-8557-453441b83dd7",
   "metadata": {},
   "outputs": [
    {
     "name": "stdout",
     "output_type": "stream",
     "text": [
      "A\n"
     ]
    }
   ],
   "source": [
    "print(chr(65))"
   ]
  },
  {
   "cell_type": "code",
   "execution_count": 6,
   "id": "243eae18-e453-42d7-aba7-727b3a668d83",
   "metadata": {},
   "outputs": [
    {
     "name": "stdout",
     "output_type": "stream",
     "text": [
      "nltk Md Ssl"
     ]
    }
   ],
   "source": [
    "cthString=\"Analitika Media Sosial\"\n",
    "vokal = ['a','i','u','e','o']\n",
    "\n",
    "for i in range(len(cthString)):\n",
    "    if cthString[i].lower() in vokal:\n",
    "        continue\n",
    "    print(cthString[i], end=\"\")"
   ]
  },
  {
   "cell_type": "code",
   "execution_count": 7,
   "id": "8a48143c-2a2b-44b0-b95d-4649e1c9ff77",
   "metadata": {},
   "outputs": [
    {
     "name": "stdout",
     "output_type": "stream",
     "text": [
      "nt iol\n",
      "nali\n",
      "litika Media Sosial\n",
      "Ana\n",
      "AaiiaMdaSsa\n"
     ]
    }
   ],
   "source": [
    "cthSlice = \"Analitika Media Sosial\"\n",
    "\n",
    "print(cthSlice[1::4])\n",
    "print(cthSlice[1:5])\n",
    "print(cthSlice[3:])\n",
    "print(cthSlice[:3])\n",
    "print(cthSlice[::2])"
   ]
  },
  {
   "cell_type": "code",
   "execution_count": 8,
   "id": "e97523cc-fa25-4969-ac5a-e22f783fcaed",
   "metadata": {},
   "outputs": [
    {
     "name": "stdout",
     "output_type": "stream",
     "text": [
      "b\n"
     ]
    },
    {
     "ename": "TypeError",
     "evalue": "'str' object doesn't support item deletion",
     "output_type": "error",
     "traceback": [
      "\u001b[1;31m---------------------------------------------------------------------------\u001b[0m",
      "\u001b[1;31mTypeError\u001b[0m                                 Traceback (most recent call last)",
      "Cell \u001b[1;32mIn[8], line 4\u001b[0m\n\u001b[0;32m      1\u001b[0m alphabet \u001b[38;5;241m=\u001b[39m \u001b[38;5;124m'\u001b[39m\u001b[38;5;124mabcdefghijklmnopqrstuvwxyz\u001b[39m\u001b[38;5;124m'\u001b[39m\n\u001b[0;32m      3\u001b[0m \u001b[38;5;28mprint\u001b[39m(alphabet[\u001b[38;5;241m1\u001b[39m])\n\u001b[1;32m----> 4\u001b[0m \u001b[38;5;28;01mdel\u001b[39;00m \u001b[43malphabet\u001b[49m\u001b[43m[\u001b[49m\u001b[38;5;241;43m0\u001b[39;49m\u001b[43m]\u001b[49m\n",
      "\u001b[1;31mTypeError\u001b[0m: 'str' object doesn't support item deletion"
     ]
    }
   ],
   "source": [
    "alphabet = 'abcdefghijklmnopqrstuvwxyz'\n",
    "\n",
    "print(alphabet[1])\n",
    "del alphabet[0]"
   ]
  },
  {
   "cell_type": "code",
   "execution_count": 9,
   "id": "1e3088fa-2651-4711-98b6-d3df71af5c53",
   "metadata": {},
   "outputs": [
    {
     "ename": "AttributeError",
     "evalue": "'str' object has no attribute 'insert'",
     "output_type": "error",
     "traceback": [
      "\u001b[1;31m---------------------------------------------------------------------------\u001b[0m",
      "\u001b[1;31mAttributeError\u001b[0m                            Traceback (most recent call last)",
      "Cell \u001b[1;32mIn[9], line 1\u001b[0m\n\u001b[1;32m----> 1\u001b[0m \u001b[43malphabet\u001b[49m\u001b[38;5;241;43m.\u001b[39;49m\u001b[43minsert\u001b[49m(\u001b[38;5;124m\"\u001b[39m\u001b[38;5;124mA\u001b[39m\u001b[38;5;124m\"\u001b[39m)\n",
      "\u001b[1;31mAttributeError\u001b[0m: 'str' object has no attribute 'insert'"
     ]
    }
   ],
   "source": [
    "alphabet.insert(\"A\")"
   ]
  },
  {
   "cell_type": "code",
   "execution_count": 10,
   "id": "be539f2f-7c8d-4128-99bd-11ca4a503596",
   "metadata": {},
   "outputs": [
    {
     "name": "stdout",
     "output_type": "stream",
     "text": [
      "A\n"
     ]
    }
   ],
   "source": [
    "print(min(\"aAbByYzZ\"))"
   ]
  },
  {
   "cell_type": "code",
   "execution_count": 11,
   "id": "8b0a9454-98e8-4e06-bb8e-ab0f34cc4e44",
   "metadata": {},
   "outputs": [
    {
     "name": "stdout",
     "output_type": "stream",
     "text": [
      "3\n"
     ]
    }
   ],
   "source": [
    "t = \"theta\"\n",
    "print(t.find('ta'))"
   ]
  },
  {
   "cell_type": "code",
   "execution_count": 12,
   "id": "ea71e3cd-8f97-4978-8995-c768a600de59",
   "metadata": {},
   "outputs": [
    {
     "name": "stdout",
     "output_type": "stream",
     "text": [
      "15\n",
      "80\n",
      "198\n",
      "221\n",
      "238\n"
     ]
    }
   ],
   "source": [
    "txt = \"\"\"A variation of the ordinary lorem ipsum\n",
    "text has been used in typesetting since the 1960s \n",
    "or earlier, when it was popularized by advertisements \n",
    "for Letraset transfer sheets. It was introduced to \n",
    "the Information Age in the mid-1980s by the Aldus Corporation, \n",
    "which employed it in graphics and word-processing templates\n",
    "for its desktop publishing program PageMaker (from Wikipedia)\"\"\"\n",
    "\n",
    "fnd = txt.find('the')\n",
    "while fnd != -1:\n",
    "    print(fnd)\n",
    "    fnd = txt.find('the', fnd + 1)"
   ]
  },
  {
   "cell_type": "code",
   "execution_count": 13,
   "id": "07996e09-4d8a-4de7-91d0-fbeea9f62ed0",
   "metadata": {},
   "outputs": [],
   "source": [
    "text = 'RT : @alzami1986 suka menonton Attack on Titans! (進撃の巨人) #aot  setiap kamis pukul 21.00 di http://netflix.com/aot . \\\\n meski tidak suka kekerasan, tapi cukup menikmati ?! #EldiaHarusMenang melawan #Marley  A ...'"
   ]
  },
  {
   "cell_type": "code",
   "execution_count": 14,
   "id": "b4375f11-e43d-4532-a8e1-e6908a49b1ee",
   "metadata": {},
   "outputs": [
    {
     "name": "stdout",
     "output_type": "stream",
     "text": [
      "RT : @alzami1986 suka menonton Attack on Titans! (進撃の巨人) #aot  setiap kamis pukul 21.00 di http://netflix.com/aot . \\n meski tidak suka kekerasan, tapi cukup menikmati ?! #EldiaHarusMenang melawan #Marley  A ...\n"
     ]
    }
   ],
   "source": [
    "print(text)"
   ]
  },
  {
   "cell_type": "code",
   "execution_count": 15,
   "id": "608e86f0-a5fa-40ee-8682-107322664de3",
   "metadata": {},
   "outputs": [],
   "source": [
    "import re\n",
    "import string\n",
    "import time\n",
    "from copy import deepcopy"
   ]
  },
  {
   "cell_type": "code",
   "execution_count": 16,
   "id": "85071ba9-9bfd-48f6-beb4-9d6fbfc85127",
   "metadata": {},
   "outputs": [],
   "source": [
    "hasil = text.replace('\\\\t',\" \").replace('\\\\n',\" \").replace('\\\\u',\" \").replace('\\\\',\"\")"
   ]
  },
  {
   "cell_type": "code",
   "execution_count": 17,
   "id": "705530e4-bc89-4619-a433-79098bd02e66",
   "metadata": {},
   "outputs": [
    {
     "data": {
      "text/plain": [
       "'RT : @alzami1986 suka menonton Attack on Titans! (進撃の巨人) #aot  setiap kamis pukul 21.00 di http://netflix.com/aot .   meski tidak suka kekerasan, tapi cukup menikmati ?! #EldiaHarusMenang melawan #Marley  A ...'"
      ]
     },
     "execution_count": 17,
     "metadata": {},
     "output_type": "execute_result"
    }
   ],
   "source": [
    "hasil"
   ]
  },
  {
   "cell_type": "code",
   "execution_count": 18,
   "id": "66f81500-5010-40c8-8345-f90e1fa09796",
   "metadata": {},
   "outputs": [],
   "source": [
    "hasil = hasil.encode('ascii', 'replace').decode('ascii')"
   ]
  },
  {
   "cell_type": "code",
   "execution_count": 19,
   "id": "5bef0ad8-b027-4fff-838d-9620eadcf43f",
   "metadata": {},
   "outputs": [
    {
     "data": {
      "text/plain": [
       "'RT : @alzami1986 suka menonton Attack on Titans! (?????) #aot  setiap kamis pukul 21.00 di http://netflix.com/aot .   meski tidak suka kekerasan, tapi cukup menikmati ?! #EldiaHarusMenang melawan #Marley  A ...'"
      ]
     },
     "execution_count": 19,
     "metadata": {},
     "output_type": "execute_result"
    }
   ],
   "source": [
    "hasil"
   ]
  },
  {
   "cell_type": "code",
   "execution_count": 20,
   "id": "996a595b-7bee-4c81-b470-fa0c95cd0a40",
   "metadata": {},
   "outputs": [
    {
     "name": "stderr",
     "output_type": "stream",
     "text": [
      "<>:1: SyntaxWarning: invalid escape sequence '\\w'\n",
      "<>:1: SyntaxWarning: invalid escape sequence '\\w'\n",
      "C:\\Users\\user\\AppData\\Local\\Temp\\ipykernel_8476\\4242807949.py:1: SyntaxWarning: invalid escape sequence '\\w'\n",
      "  hasil = ' '.join(re.sub(\"([@#][A-Za-z0-9]+)|(\\w+:\\/\\/\\S+)\",\" \", hasil).split())\n"
     ]
    }
   ],
   "source": [
    "hasil = ' '.join(re.sub(\"([@#][A-Za-z0-9]+)|(\\w+:\\/\\/\\S+)\",\" \", hasil).split())"
   ]
  },
  {
   "cell_type": "code",
   "execution_count": 21,
   "id": "45b1aab8-ad80-46ef-b550-5a0a8f10a6ea",
   "metadata": {},
   "outputs": [
    {
     "data": {
      "text/plain": [
       "'RT : suka menonton Attack on Titans! (?????) setiap kamis pukul 21.00 di . meski tidak suka kekerasan, tapi cukup menikmati ?! melawan A ...'"
      ]
     },
     "execution_count": 21,
     "metadata": {},
     "output_type": "execute_result"
    }
   ],
   "source": [
    "hasil"
   ]
  },
  {
   "cell_type": "code",
   "execution_count": 22,
   "id": "67d90c53-e7e9-4bd8-a42b-c26db0ba7019",
   "metadata": {},
   "outputs": [],
   "source": [
    "hasil = hasil.replace('RT : ',\"\")"
   ]
  },
  {
   "cell_type": "code",
   "execution_count": 23,
   "id": "a2701e24-0c92-4219-8d01-0cc40ae794a7",
   "metadata": {},
   "outputs": [
    {
     "data": {
      "text/plain": [
       "'suka menonton Attack on Titans! (?????) setiap kamis pukul 21.00 di . meski tidak suka kekerasan, tapi cukup menikmati ?! melawan A ...'"
      ]
     },
     "execution_count": 23,
     "metadata": {},
     "output_type": "execute_result"
    }
   ],
   "source": [
    "hasil"
   ]
  },
  {
   "cell_type": "code",
   "execution_count": 24,
   "id": "29ff57a0-6ac3-41ce-b8e8-23bd98b39411",
   "metadata": {},
   "outputs": [],
   "source": [
    "hasil = hasil.lower()"
   ]
  },
  {
   "cell_type": "code",
   "execution_count": 25,
   "id": "e443e62a-9321-437e-863f-9d8d4e5c9d02",
   "metadata": {},
   "outputs": [
    {
     "data": {
      "text/plain": [
       "'suka menonton attack on titans! (?????) setiap kamis pukul 21.00 di . meski tidak suka kekerasan, tapi cukup menikmati ?! melawan a ...'"
      ]
     },
     "execution_count": 25,
     "metadata": {},
     "output_type": "execute_result"
    }
   ],
   "source": [
    "hasil"
   ]
  },
  {
   "cell_type": "code",
   "execution_count": 26,
   "id": "21a07aa9-cb08-4109-939c-39764ddd0851",
   "metadata": {},
   "outputs": [],
   "source": [
    "hasil = hasil.replace('http://',\"\").replace('https://',\"\")"
   ]
  },
  {
   "cell_type": "code",
   "execution_count": 27,
   "id": "bcbdb7e1-89d6-49d4-bb1e-44695fc473f7",
   "metadata": {},
   "outputs": [
    {
     "data": {
      "text/plain": [
       "'suka menonton attack on titans! (?????) setiap kamis pukul 21.00 di . meski tidak suka kekerasan, tapi cukup menikmati ?! melawan a ...'"
      ]
     },
     "execution_count": 27,
     "metadata": {},
     "output_type": "execute_result"
    }
   ],
   "source": [
    "hasil"
   ]
  },
  {
   "cell_type": "code",
   "execution_count": 28,
   "id": "3f5a0781-990d-41bb-9878-89ee4587991d",
   "metadata": {},
   "outputs": [],
   "source": [
    "def remove_number(hasil):\n",
    "    return re.sub(r\"\\d+\", \"\", hasil)"
   ]
  },
  {
   "cell_type": "code",
   "execution_count": 29,
   "id": "a78833ee-25e6-44a2-a8ad-67a734367ec4",
   "metadata": {},
   "outputs": [],
   "source": [
    "hasil = remove_number(hasil)"
   ]
  },
  {
   "cell_type": "code",
   "execution_count": 30,
   "id": "ca4c9b01-e0a7-4568-ad3c-9ef41e8203c3",
   "metadata": {},
   "outputs": [
    {
     "data": {
      "text/plain": [
       "'suka menonton attack on titans! (?????) setiap kamis pukul . di . meski tidak suka kekerasan, tapi cukup menikmati ?! melawan a ...'"
      ]
     },
     "execution_count": 30,
     "metadata": {},
     "output_type": "execute_result"
    }
   ],
   "source": [
    "hasil"
   ]
  },
  {
   "cell_type": "code",
   "execution_count": 31,
   "id": "513b62c7-d0e2-4d41-a80f-15ae2076cfc5",
   "metadata": {},
   "outputs": [],
   "source": [
    "def remove_whitespace(hasil):\n",
    "    return hasil.strip()"
   ]
  },
  {
   "cell_type": "code",
   "execution_count": 32,
   "id": "2ac3091f-4fbc-465f-9c99-3ee0e5255bda",
   "metadata": {},
   "outputs": [],
   "source": [
    "hasil = remove_whitespace(hasil)"
   ]
  },
  {
   "cell_type": "code",
   "execution_count": 33,
   "id": "c3193103-26ee-4505-acde-c1bbe10f2136",
   "metadata": {},
   "outputs": [
    {
     "data": {
      "text/plain": [
       "'RT : @alzami1986 suka menonton Attack on Titans! (進撃の巨人) #aot  setiap kamis pukul 21.00 di http://netflix.com/aot . \\\\n meski tidak suka kekerasan, tapi cukup menikmati ?! #EldiaHarusMenang melawan #Marley  A ...'"
      ]
     },
     "execution_count": 33,
     "metadata": {},
     "output_type": "execute_result"
    }
   ],
   "source": [
    "text"
   ]
  },
  {
   "cell_type": "code",
   "execution_count": 34,
   "id": "44bf220e-4e49-4c33-8ec5-33678d25fc81",
   "metadata": {},
   "outputs": [
    {
     "data": {
      "text/plain": [
       "'suka menonton attack on titans! (?????) setiap kamis pukul . di . meski tidak suka kekerasan, tapi cukup menikmati ?! melawan a ...'"
      ]
     },
     "execution_count": 34,
     "metadata": {},
     "output_type": "execute_result"
    }
   ],
   "source": [
    "hasil"
   ]
  },
  {
   "cell_type": "code",
   "execution_count": 35,
   "id": "2aa0e979-2c67-4611-8796-e3b327e8e793",
   "metadata": {},
   "outputs": [
    {
     "name": "stderr",
     "output_type": "stream",
     "text": [
      "<>:2: SyntaxWarning: invalid escape sequence '\\s'\n",
      "<>:2: SyntaxWarning: invalid escape sequence '\\s'\n",
      "C:\\Users\\user\\AppData\\Local\\Temp\\ipykernel_8476\\4192477300.py:2: SyntaxWarning: invalid escape sequence '\\s'\n",
      "  return re.sub('\\s+',' ',hasil)\n"
     ]
    }
   ],
   "source": [
    "def remove_whitespace_multi(hasil):\n",
    "    return re.sub('\\s+',' ',hasil)"
   ]
  },
  {
   "cell_type": "code",
   "execution_count": 36,
   "id": "e6b6d7e3-6dd3-4984-83ab-45ae62900b55",
   "metadata": {},
   "outputs": [],
   "source": [
    "hasil = remove_whitespace_multi(hasil)"
   ]
  },
  {
   "cell_type": "code",
   "execution_count": 37,
   "id": "ed2b0c2f-ce5e-44aa-a26d-1ed049a07118",
   "metadata": {},
   "outputs": [
    {
     "data": {
      "text/plain": [
       "'suka menonton attack on titans! (?????) setiap kamis pukul . di . meski tidak suka kekerasan, tapi cukup menikmati ?! melawan a ...'"
      ]
     },
     "execution_count": 37,
     "metadata": {},
     "output_type": "execute_result"
    }
   ],
   "source": [
    "hasil"
   ]
  },
  {
   "cell_type": "code",
   "execution_count": 38,
   "id": "f146593a-e632-4cf0-a089-a15d30360700",
   "metadata": {},
   "outputs": [],
   "source": [
    "def remove_single_char(hasil):\n",
    "    return re.sub(r\"\\b[a-zA-Z]\\b\", \"\", hasil)"
   ]
  },
  {
   "cell_type": "code",
   "execution_count": 39,
   "id": "b9ae9c81-9d50-4e10-81d5-f338900c59f1",
   "metadata": {},
   "outputs": [],
   "source": [
    "hasil = remove_single_char(hasil)"
   ]
  },
  {
   "cell_type": "code",
   "execution_count": 40,
   "id": "45e08881-ffb3-4148-9b97-908321437919",
   "metadata": {},
   "outputs": [
    {
     "data": {
      "text/plain": [
       "'suka menonton attack on titans! (?????) setiap kamis pukul . di . meski tidak suka kekerasan, tapi cukup menikmati ?! melawan  ...'"
      ]
     },
     "execution_count": 40,
     "metadata": {},
     "output_type": "execute_result"
    }
   ],
   "source": [
    "hasil"
   ]
  },
  {
   "cell_type": "code",
   "execution_count": 41,
   "id": "6f76363a-ab94-4769-ab83-91febc00f2ee",
   "metadata": {},
   "outputs": [],
   "source": [
    "def remove_excessive_dot(hasil):\n",
    "    return hasil.replace('...',\" \")"
   ]
  },
  {
   "cell_type": "code",
   "execution_count": 42,
   "id": "eb0f5695-5000-448a-a8b5-10db1fce106e",
   "metadata": {},
   "outputs": [],
   "source": [
    "hasil = remove_excessive_dot(hasil)"
   ]
  },
  {
   "cell_type": "code",
   "execution_count": 43,
   "id": "d155f2f5-23f8-4e8a-ae28-9aba627c7db5",
   "metadata": {},
   "outputs": [
    {
     "data": {
      "text/plain": [
       "'suka menonton attack on titans! (?????) setiap kamis pukul . di . meski tidak suka kekerasan, tapi cukup menikmati ?! melawan   '"
      ]
     },
     "execution_count": 43,
     "metadata": {},
     "output_type": "execute_result"
    }
   ],
   "source": [
    "hasil"
   ]
  },
  {
   "cell_type": "code",
   "execution_count": 45,
   "id": "ec97cfca-6046-4fd7-9929-35fae3790a2a",
   "metadata": {},
   "outputs": [],
   "source": [
    "def remove_punctuation(hasil):\n",
    "    return hasil.translate(str.maketrans(\"\",\"\",string.punctuation))"
   ]
  },
  {
   "cell_type": "code",
   "execution_count": 46,
   "id": "94770a07-2b9a-48bc-9ed8-ca9e065ab253",
   "metadata": {},
   "outputs": [],
   "source": [
    "hasil = remove_punctuation(hasil)"
   ]
  },
  {
   "cell_type": "code",
   "execution_count": 47,
   "id": "5cef1bfe-622d-4d4f-91b3-5106514e23b3",
   "metadata": {},
   "outputs": [
    {
     "data": {
      "text/plain": [
       "'RT : @alzami1986 suka menonton Attack on Titans! (進撃の巨人) #aot  setiap kamis pukul 21.00 di http://netflix.com/aot . \\\\n meski tidak suka kekerasan, tapi cukup menikmati ?! #EldiaHarusMenang melawan #Marley  A ...'"
      ]
     },
     "execution_count": 47,
     "metadata": {},
     "output_type": "execute_result"
    }
   ],
   "source": [
    "text"
   ]
  },
  {
   "cell_type": "code",
   "execution_count": 48,
   "id": "679df0ba-2974-48ad-8287-c9ce2e2afddd",
   "metadata": {},
   "outputs": [
    {
     "data": {
      "text/plain": [
       "'suka menonton attack on titans  setiap kamis pukul  di  meski tidak suka kekerasan tapi cukup menikmati  melawan   '"
      ]
     },
     "execution_count": 48,
     "metadata": {},
     "output_type": "execute_result"
    }
   ],
   "source": [
    "hasil"
   ]
  },
  {
   "cell_type": "code",
   "execution_count": 49,
   "id": "bb1b0617-8ffb-4fb2-84ba-84cbabb51b33",
   "metadata": {},
   "outputs": [],
   "source": [
    "document = \" saya                    tidak suka sambal     bikin sakit    \""
   ]
  },
  {
   "cell_type": "code",
   "execution_count": 50,
   "id": "acfb740a-15be-4cee-9a67-bed821b1cdd8",
   "metadata": {},
   "outputs": [],
   "source": [
    "nowhite = ' '.join(document.split())"
   ]
  },
  {
   "cell_type": "code",
   "execution_count": 51,
   "id": "b4c91b5f-e8f9-4265-8448-abdcbe2c9078",
   "metadata": {},
   "outputs": [
    {
     "data": {
      "text/plain": [
       "'saya tidak suka sambal bikin sakit'"
      ]
     },
     "execution_count": 51,
     "metadata": {},
     "output_type": "execute_result"
    }
   ],
   "source": [
    "nowhite"
   ]
  }
 ],
 "metadata": {
  "kernelspec": {
   "display_name": "Python 3 (ipykernel)",
   "language": "python",
   "name": "python3"
  },
  "language_info": {
   "codemirror_mode": {
    "name": "ipython",
    "version": 3
   },
   "file_extension": ".py",
   "mimetype": "text/x-python",
   "name": "python",
   "nbconvert_exporter": "python",
   "pygments_lexer": "ipython3",
   "version": "3.12.2"
  }
 },
 "nbformat": 4,
 "nbformat_minor": 5
}
